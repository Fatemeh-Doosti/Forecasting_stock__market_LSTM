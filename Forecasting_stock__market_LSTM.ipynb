{
  "nbformat": 4,
  "nbformat_minor": 0,
  "metadata": {
    "colab": {
      "provenance": [],
      "toc_visible": true
    },
    "kernelspec": {
      "name": "python3",
      "display_name": "Python 3"
    },
    "language_info": {
      "name": "python"
    }
  },
  "cells": [
    {
      "cell_type": "markdown",
      "source": [
        "#Forecasting the stock market using LSTM algorithm\n",
        "*   Different methods of collecting data from Data Reader and Yahoo online and data pre-processing"
      ],
      "metadata": {
        "id": "tWhRKPjTq1xp"
      }
    },
    {
      "cell_type": "markdown",
      "source": [
        "### Import Library"
      ],
      "metadata": {
        "id": "1COIKEBeraHA"
      }
    },
    {
      "cell_type": "code",
      "execution_count": 70,
      "metadata": {
        "colab": {
          "base_uri": "https://localhost:8080/"
        },
        "id": "OfTeIFF4qFJE",
        "outputId": "86c22bf7-fae5-4ccc-f495-9ed4a6d28723"
      },
      "outputs": [
        {
          "output_type": "stream",
          "name": "stdout",
          "text": [
            "Requirement already satisfied: ta in /usr/local/lib/python3.10/dist-packages (0.10.2)\n",
            "Requirement already satisfied: numpy in /usr/local/lib/python3.10/dist-packages (from ta) (1.23.5)\n",
            "Requirement already satisfied: pandas in /usr/local/lib/python3.10/dist-packages (from ta) (1.5.3)\n",
            "Requirement already satisfied: python-dateutil>=2.8.1 in /usr/local/lib/python3.10/dist-packages (from pandas->ta) (2.8.2)\n",
            "Requirement already satisfied: pytz>=2020.1 in /usr/local/lib/python3.10/dist-packages (from pandas->ta) (2023.3.post1)\n",
            "Requirement already satisfied: six>=1.5 in /usr/local/lib/python3.10/dist-packages (from python-dateutil>=2.8.1->pandas->ta) (1.16.0)\n"
          ]
        }
      ],
      "source": [
        "!pip install ta"
      ]
    },
    {
      "cell_type": "code",
      "source": [
        "import math\n",
        "import ta\n",
        "import pandas as pd\n",
        "from pandas_datareader import data as pdr\n",
        "import yfinance as yfin\n",
        "yfin.pdr_override()\n",
        "import numpy as np\n",
        "\n",
        "from sklearn.preprocessing import MinMaxScaler\n",
        "from keras.models import Sequential\n",
        "from keras.layers import Dense,LSTM\n",
        "import matplotlib.pyplot as plt"
      ],
      "metadata": {
        "id": "8JVsrlO2rCyx"
      },
      "execution_count": 71,
      "outputs": []
    },
    {
      "cell_type": "markdown",
      "source": [
        "### Dataset Generating"
      ],
      "metadata": {
        "id": "5HsDwpPerHyL"
      }
    },
    {
      "cell_type": "code",
      "source": [
        "data = pdr.get_data_yahoo('SPY', start='2017-08-01', end='2023-08-01')\n",
        "print(data)"
      ],
      "metadata": {
        "colab": {
          "base_uri": "https://localhost:8080/"
        },
        "id": "QDrisB20r62Y",
        "outputId": "a1fffc31-eee3-4ebb-efd1-211b730f3895"
      },
      "execution_count": 72,
      "outputs": [
        {
          "output_type": "stream",
          "name": "stdout",
          "text": [
            "\r[*********************100%%**********************]  1 of 1 completed\n",
            "                  Open        High         Low       Close   Adj Close  \\\n",
            "Date                                                                     \n",
            "2017-08-01  247.460007  247.500000  246.720001  247.320007  222.334549   \n",
            "2017-08-02  247.470001  247.600006  246.369995  247.440002  222.442398   \n",
            "2017-08-03  247.309998  247.339996  246.639999  246.960007  222.010910   \n",
            "2017-08-04  247.520004  247.789993  246.970001  247.410004  222.415451   \n",
            "2017-08-07  247.490005  247.869995  247.369995  247.869995  222.828934   \n",
            "...                ...         ...         ...         ...         ...   \n",
            "2023-07-25  453.920013  456.739990  453.869995  455.440002  453.839142   \n",
            "2023-07-26  454.470001  456.989990  453.380005  455.510010  453.908905   \n",
            "2023-07-27  459.019989  459.440002  451.549988  452.489990  450.899506   \n",
            "2023-07-28  455.880005  457.779999  452.489990  456.920013  455.313965   \n",
            "2023-07-31  457.410004  458.160004  456.049988  457.790009  456.180908   \n",
            "\n",
            "              Volume  \n",
            "Date                  \n",
            "2017-08-01  55050400  \n",
            "2017-08-02  47211200  \n",
            "2017-08-03  40856000  \n",
            "2017-08-04  60191800  \n",
            "2017-08-07  31995000  \n",
            "...              ...  \n",
            "2023-07-25  55191200  \n",
            "2023-07-26  71052900  \n",
            "2023-07-27  92194400  \n",
            "2023-07-28  80011800  \n",
            "2023-07-31  62040400  \n",
            "\n",
            "[1509 rows x 6 columns]\n"
          ]
        }
      ]
    },
    {
      "cell_type": "code",
      "source": [
        "data.shape"
      ],
      "metadata": {
        "colab": {
          "base_uri": "https://localhost:8080/"
        },
        "id": "uNhqqxIkrgAR",
        "outputId": "69560837-6c3e-4ae2-ee3f-64638b6e01b3"
      },
      "execution_count": 73,
      "outputs": [
        {
          "output_type": "execute_result",
          "data": {
            "text/plain": [
              "(1509, 6)"
            ]
          },
          "metadata": {},
          "execution_count": 73
        }
      ]
    },
    {
      "cell_type": "markdown",
      "source": [
        "### Create subplots"
      ],
      "metadata": {
        "id": "kIGfNCZEsHER"
      }
    },
    {
      "cell_type": "code",
      "source": [
        "fig, axs = plt.subplots(3, 1, figsize=(8, 12))\n",
        "\n",
        "# Plot Volume\n",
        "axs[0].set_title('Volume History')\n",
        "axs[0].plot(data['Volume'], color='blue', alpha=0.5)\n",
        "axs[0].set_xlabel('Date')\n",
        "axs[0].set_ylabel('Volume', fontsize=12)\n",
        "\n",
        "# Plot Close Price\n",
        "axs[1].set_title('Close Price History')\n",
        "axs[1].plot(data['Close'], color='red', alpha=0.5)\n",
        "axs[1].set_xlabel('Date')\n",
        "axs[1].set_ylabel('Close Price USD ($)', fontsize=12)\n",
        "\n",
        "# Plot Adjusted Close Price\n",
        "axs[2].set_title('Adjusted Close Price History')\n",
        "axs[2].plot(data['Adj Close'], color='green', alpha=0.5)\n",
        "axs[2].set_xlabel('Date')\n",
        "axs[2].set_ylabel('Adjusted Close Price USD ($)', fontsize=12)\n",
        "\n",
        "# Adjust spacing between subplots\n",
        "plt.tight_layout()\n",
        "\n",
        "# Show the plot\n",
        "plt.show()"
      ],
      "metadata": {
        "colab": {
          "base_uri": "https://localhost:8080/",
          "height": 1000
        },
        "id": "q4X0bqUtsDqg",
        "outputId": "180efb24-6842-4390-f36a-6107f04c068b"
      },
      "execution_count": 74,
      "outputs": [
        {
          "output_type": "display_data",
          "data": {
            "text/plain": [
              "<Figure size 800x1200 with 3 Axes>"
            ],
            "image/png": "[encoded data removed]"
          },
          "metadata": {}
        }
      ]
    },
    {
      "cell_type": "markdown",
      "source": [
        "### create the 'Close Cloumn'"
      ],
      "metadata": {
        "id": "I3zaSRrvsNZp"
      }
    },
    {
      "cell_type": "code",
      "source": [
        "data2=data.filter(['Close'])\n",
        "data2"
      ],
      "metadata": {
        "colab": {
          "base_uri": "https://localhost:8080/",
          "height": 455
        },
        "id": "KIXgQZnusQNQ",
        "outputId": "8fc90572-5766-45c8-c3bf-6858f81902ab"
      },
      "execution_count": 75,
      "outputs": [
        {
          "output_type": "execute_result",
          "data": {
            "text/plain": [
              "                 Close\n",
              "Date                  \n",
              "2017-08-01  247.320007\n",
              "2017-08-02  247.440002\n",
              "2017-08-03  246.960007\n",
              "2017-08-04  247.410004\n",
              "2017-08-07  247.869995\n",
              "...                ...\n",
              "2023-07-25  455.440002\n",
              "2023-07-26  455.510010\n",
              "2023-07-27  452.489990\n",
              "2023-07-28  456.920013\n",
              "2023-07-31  457.790009\n",
              "\n",
              "[1509 rows x 1 columns]"
            ],
            "text/html": [
              "\n",
              "  <div id=\"df-7d6b3b3c-d24e-43b4-8326-695d15ac1cb7\" class=\"colab-df-container\">\n",
              "    <div>\n",
              "<style scoped>\n",
              "    .dataframe tbody tr th:only-of-type {\n",
              "        vertical-align: middle;\n",
              "    }\n",
              "\n",
              "    .dataframe tbody tr th {\n",
              "        vertical-align: top;\n",
              "    }\n",
              "\n",
              "    .dataframe thead th {\n",
              "        text-align: right;\n",
              "    }\n",
              "</style>\n",
              "<table border=\"1\" class=\"dataframe\">\n",
              "  <thead>\n",
              "    <tr style=\"text-align: right;\">\n",
              "      <th></th>\n",
              "      <th>Close</th>\n",
              "    </tr>\n",
              "    <tr>\n",
              "      <th>Date</th>\n",
              "      <th></th>\n",
              "    </tr>\n",
              "  </thead>\n",
              "  <tbody>\n",
              "    <tr>\n",
              "      <th>2017-08-01</th>\n",
              "      <td>247.320007</td>\n",
              "    </tr>\n",
              "    <tr>\n",
              "      <th>2017-08-02</th>\n",
              "      <td>247.440002</td>\n",
              "    </tr>\n",
              "    <tr>\n",
              "      <th>2017-08-03</th>\n",
              "      <td>246.960007</td>\n",
              "    </tr>\n",
              "    <tr>\n",
              "      <th>2017-08-04</th>\n",
              "      <td>247.410004</td>\n",
              "    </tr>\n",
              "    <tr>\n",
              "      <th>2017-08-07</th>\n",
              "      <td>247.869995</td>\n",
              "    </tr>\n",
              "    <tr>\n",
              "      <th>...</th>\n",
              "      <td>...</td>\n",
              "    </tr>\n",
              "    <tr>\n",
              "      <th>2023-07-25</th>\n",
              "      <td>455.440002</td>\n",
              "    </tr>\n",
              "    <tr>\n",
              "      <th>2023-07-26</th>\n",
              "      <td>455.510010</td>\n",
              "    </tr>\n",
              "    <tr>\n",
              "      <th>2023-07-27</th>\n",
              "      <td>452.489990</td>\n",
              "    </tr>\n",
              "    <tr>\n",
              "      <th>2023-07-28</th>\n",
              "      <td>456.920013</td>\n",
              "    </tr>\n",
              "    <tr>\n",
              "      <th>2023-07-31</th>\n",
              "      <td>457.790009</td>\n",
              "    </tr>\n",
              "  </tbody>\n",
              "</table>\n",
              "<p>1509 rows × 1 columns</p>\n",
              "</div>\n",
              "    <div class=\"colab-df-buttons\">\n",
              "\n",
              "  <div class=\"colab-df-container\">\n",
              "    <button class=\"colab-df-convert\" onclick=\"convertToInteractive('df-7d6b3b3c-d24e-43b4-8326-695d15ac1cb7')\"\n",
              "            title=\"Convert this dataframe to an interactive table.\"\n",
              "            style=\"display:none;\">\n",
              "\n",
              "  <svg xmlns=\"http://www.w3.org/2000/svg\" height=\"24px\" viewBox=\"0 -960 960 960\">\n",
              "    <path d=\"M120-120v-720h720v720H120Zm60-500h600v-160H180v160Zm220 220h160v-160H400v160Zm0 220h160v-160H400v160ZM180-400h160v-160H180v160Zm440 0h160v-160H620v160ZM180-180h160v-160H180v160Zm440 0h160v-160H620v160Z\"/>\n",
              "  </svg>\n",
              "    </button>\n",
              "\n",
              "  <style>\n",
              "    .colab-df-container {\n",
              "      display:flex;\n",
              "      gap: 12px;\n",
              "    }\n",
              "\n",
              "    .colab-df-convert {\n",
              "      background-color: #E8F0FE;\n",
              "      border: none;\n",
              "      border-radius: 50%;\n",
              "      cursor: pointer;\n",
              "      display: none;\n",
              "      fill: #1967D2;\n",
              "      height: 32px;\n",
              "      padding: 0 0 0 0;\n",
              "      width: 32px;\n",
              "    }\n",
              "\n",
              "    .colab-df-convert:hover {\n",
              "      background-color: #E2EBFA;\n",
              "      box-shadow: 0px 1px 2px rgba(60, 64, 67, 0.3), 0px 1px 3px 1px rgba(60, 64, 67, 0.15);\n",
              "      fill: #174EA6;\n",
              "    }\n",
              "\n",
              "    .colab-df-buttons div {\n",
              "      margin-bottom: 4px;\n",
              "    }\n",
              "\n",
              "    [theme=dark] .colab-df-convert {\n",
              "      background-color: #3B4455;\n",
              "      fill: #D2E3FC;\n",
              "    }\n",
              "\n",
              "    [theme=dark] .colab-df-convert:hover {\n",
              "      background-color: #434B5C;\n",
              "      box-shadow: 0px 1px 3px 1px rgba(0, 0, 0, 0.15);\n",
              "      filter: drop-shadow(0px 1px 2px rgba(0, 0, 0, 0.3));\n",
              "      fill: #FFFFFF;\n",
              "    }\n",
              "  </style>\n",
              "\n",
              "    <script>\n",
              "      const buttonEl =\n",
              "        document.querySelector('#df-7d6b3b3c-d24e-43b4-8326-695d15ac1cb7 button.colab-df-convert');\n",
              "      buttonEl.style.display =\n",
              "        google.colab.kernel.accessAllowed ? 'block' : 'none';\n",
              "\n",
              "      async function convertToInteractive(key) {\n",
              "        const element = document.querySelector('#df-7d6b3b3c-d24e-43b4-8326-695d15ac1cb7');\n",
              "        const dataTable =\n",
              "          await google.colab.kernel.invokeFunction('convertToInteractive',\n",
              "                                                    [key], {});\n",
              "        if (!dataTable) return;\n",
              "\n",
              "        const docLinkHtml = 'Like what you see? Visit the ' +\n",
              "          '<a target=\"_blank\" href=https://colab.research.google.com/notebooks/data_table.ipynb>data table notebook</a>'\n",
              "          + ' to learn more about interactive tables.';\n",
              "        element.innerHTML = '';\n",
              "        dataTable['output_type'] = 'display_data';\n",
              "        await google.colab.output.renderOutput(dataTable, element);\n",
              "        const docLink = document.createElement('div');\n",
              "        docLink.innerHTML = docLinkHtml;\n",
              "        element.appendChild(docLink);\n",
              "      }\n",
              "    </script>\n",
              "  </div>\n",
              "\n",
              "\n",
              "<div id=\"df-d151415b-8e35-4fbb-bc60-a27deee10ded\">\n",
              "  <button class=\"colab-df-quickchart\" onclick=\"quickchart('df-d151415b-8e35-4fbb-bc60-a27deee10ded')\"\n",
              "            title=\"Suggest charts.\"\n",
              "            style=\"display:none;\">\n",
              "\n",
              "<svg xmlns=\"http://www.w3.org/2000/svg\" height=\"24px\"viewBox=\"0 0 24 24\"\n",
              "     width=\"24px\">\n",
              "    <g>\n",
              "        <path d=\"M19 3H5c-1.1 0-2 .9-2 2v14c0 1.1.9 2 2 2h14c1.1 0 2-.9 2-2V5c0-1.1-.9-2-2-2zM9 17H7v-7h2v7zm4 0h-2V7h2v10zm4 0h-2v-4h2v4z\"/>\n",
              "    </g>\n",
              "</svg>\n",
              "  </button>\n",
              "\n",
              "<style>\n",
              "  .colab-df-quickchart {\n",
              "      --bg-color: #E8F0FE;\n",
              "      --fill-color: #1967D2;\n",
              "      --hover-bg-color: #E2EBFA;\n",
              "      --hover-fill-color: #174EA6;\n",
              "      --disabled-fill-color: #AAA;\n",
              "      --disabled-bg-color: #DDD;\n",
              "  }\n",
              "\n",
              "  [theme=dark] .colab-df-quickchart {\n",
              "      --bg-color: #3B4455;\n",
              "      --fill-color: #D2E3FC;\n",
              "      --hover-bg-color: #434B5C;\n",
              "      --hover-fill-color: #FFFFFF;\n",
              "      --disabled-bg-color: #3B4455;\n",
              "      --disabled-fill-color: #666;\n",
              "  }\n",
              "\n",
              "  .colab-df-quickchart {\n",
              "    background-color: var(--bg-color);\n",
              "    border: none;\n",
              "    border-radius: 50%;\n",
              "    cursor: pointer;\n",
              "    display: none;\n",
              "    fill: var(--fill-color);\n",
              "    height: 32px;\n",
              "    padding: 0;\n",
              "    width: 32px;\n",
              "  }\n",
              "\n",
              "  .colab-df-quickchart:hover {\n",
              "    background-color: var(--hover-bg-color);\n",
              "    box-shadow: 0 1px 2px rgba(60, 64, 67, 0.3), 0 1px 3px 1px rgba(60, 64, 67, 0.15);\n",
              "    fill: var(--button-hover-fill-color);\n",
              "  }\n",
              "\n",
              "  .colab-df-quickchart-complete:disabled,\n",
              "  .colab-df-quickchart-complete:disabled:hover {\n",
              "    background-color: var(--disabled-bg-color);\n",
              "    fill: var(--disabled-fill-color);\n",
              "    box-shadow: none;\n",
              "  }\n",
              "\n",
              "  .colab-df-spinner {\n",
              "    border: 2px solid var(--fill-color);\n",
              "    border-color: transparent;\n",
              "    border-bottom-color: var(--fill-color);\n",
              "    animation:\n",
              "      spin 1s steps(1) infinite;\n",
              "  }\n",
              "\n",
              "  @keyframes spin {\n",
              "    0% {\n",
              "      border-color: transparent;\n",
              "      border-bottom-color: var(--fill-color);\n",
              "      border-left-color: var(--fill-color);\n",
              "    }\n",
              "    20% {\n",
              "      border-color: transparent;\n",
              "      border-left-color: var(--fill-color);\n",
              "      border-top-color: var(--fill-color);\n",
              "    }\n",
              "    30% {\n",
              "      border-color: transparent;\n",
              "      border-left-color: var(--fill-color);\n",
              "      border-top-color: var(--fill-color);\n",
              "      border-right-color: var(--fill-color);\n",
              "    }\n",
              "    40% {\n",
              "      border-color: transparent;\n",
              "      border-right-color: var(--fill-color);\n",
              "      border-top-color: var(--fill-color);\n",
              "    }\n",
              "    60% {\n",
              "      border-color: transparent;\n",
              "      border-right-color: var(--fill-color);\n",
              "    }\n",
              "    80% {\n",
              "      border-color: transparent;\n",
              "      border-right-color: var(--fill-color);\n",
              "      border-bottom-color: var(--fill-color);\n",
              "    }\n",
              "    90% {\n",
              "      border-color: transparent;\n",
              "      border-bottom-color: var(--fill-color);\n",
              "    }\n",
              "  }\n",
              "</style>\n",
              "\n",
              "  <script>\n",
              "    async function quickchart(key) {\n",
              "      const quickchartButtonEl =\n",
              "        document.querySelector('#' + key + ' button');\n",
              "      quickchartButtonEl.disabled = true;  // To prevent multiple clicks.\n",
              "      quickchartButtonEl.classList.add('colab-df-spinner');\n",
              "      try {\n",
              "        const charts = await google.colab.kernel.invokeFunction(\n",
              "            'suggestCharts', [key], {});\n",
              "      } catch (error) {\n",
              "        console.error('Error during call to suggestCharts:', error);\n",
              "      }\n",
              "      quickchartButtonEl.classList.remove('colab-df-spinner');\n",
              "      quickchartButtonEl.classList.add('colab-df-quickchart-complete');\n",
              "    }\n",
              "    (() => {\n",
              "      let quickchartButtonEl =\n",
              "        document.querySelector('#df-d151415b-8e35-4fbb-bc60-a27deee10ded button');\n",
              "      quickchartButtonEl.style.display =\n",
              "        google.colab.kernel.accessAllowed ? 'block' : 'none';\n",
              "    })();\n",
              "  </script>\n",
              "</div>\n",
              "    </div>\n",
              "  </div>\n"
            ]
          },
          "metadata": {},
          "execution_count": 75
        }
      ]
    },
    {
      "cell_type": "markdown",
      "source": [
        "### convert to numpy"
      ],
      "metadata": {
        "id": "UElLaRTZsdlq"
      }
    },
    {
      "cell_type": "code",
      "source": [
        "dataset=data2.values"
      ],
      "metadata": {
        "id": "FLtfxm39sgH5"
      },
      "execution_count": 76,
      "outputs": []
    },
    {
      "cell_type": "markdown",
      "source": [
        "### the number of rows to be trained"
      ],
      "metadata": {
        "id": "hBadMliPsvDY"
      }
    },
    {
      "cell_type": "code",
      "source": [
        "training_data_len= math.ceil(len(dataset)*.8)\n",
        "training_data_len"
      ],
      "metadata": {
        "colab": {
          "base_uri": "https://localhost:8080/"
        },
        "id": "eKn1QZzxsnOY",
        "outputId": "fcf7e6cc-2c12-4218-d342-2ca70db74859"
      },
      "execution_count": 77,
      "outputs": [
        {
          "output_type": "execute_result",
          "data": {
            "text/plain": [
              "1208"
            ]
          },
          "metadata": {},
          "execution_count": 77
        }
      ]
    },
    {
      "cell_type": "markdown",
      "source": [
        "### scale the data"
      ],
      "metadata": {
        "id": "7ezmG-i2s2B3"
      }
    },
    {
      "cell_type": "code",
      "source": [
        "scalar=MinMaxScaler(feature_range=(0,1))\n",
        "scaled_data=scalar.fit_transform(dataset)"
      ],
      "metadata": {
        "id": "hoZ_pX5Csahv"
      },
      "execution_count": 78,
      "outputs": []
    },
    {
      "cell_type": "markdown",
      "source": [
        "## Preparing data for training process and creating LSTM algorithm model for stock market forecasting"
      ],
      "metadata": {
        "id": "Z7vpVkXEwLkY"
      }
    },
    {
      "cell_type": "markdown",
      "source": [
        "### creat scaled data for training"
      ],
      "metadata": {
        "id": "oAVUlTQQtcKY"
      }
    },
    {
      "cell_type": "code",
      "source": [
        "train_data=scaled_data[0:training_data_len,:]"
      ],
      "metadata": {
        "id": "t1T8eQdgs4L5"
      },
      "execution_count": 79,
      "outputs": []
    },
    {
      "cell_type": "markdown",
      "source": [
        "### split data to x_train , x_test"
      ],
      "metadata": {
        "id": "K7gscExEt3Io"
      }
    },
    {
      "cell_type": "code",
      "source": [
        "x_train=[]\n",
        "y_train=[]\n",
        "for i in range(25,len(train_data)):\n",
        "  x_train.append(train_data[i-25:i,0])\n",
        "  y_train.append(train_data[i,0])"
      ],
      "metadata": {
        "id": "437ylXSTtixN"
      },
      "execution_count": 80,
      "outputs": []
    },
    {
      "cell_type": "markdown",
      "source": [
        "### convert  the x_train , y_train to numpy arrays"
      ],
      "metadata": {
        "id": "xoJlLwSKuCTv"
      }
    },
    {
      "cell_type": "code",
      "source": [
        "x_train,y_train=np.array(x_train),np.array(y_train)"
      ],
      "metadata": {
        "id": "Zu4naXL7t-1x"
      },
      "execution_count": 81,
      "outputs": []
    },
    {
      "cell_type": "markdown",
      "source": [
        "### Reshape the data"
      ],
      "metadata": {
        "id": "fNwugsNouPAQ"
      }
    },
    {
      "cell_type": "code",
      "source": [
        "x_train=np.reshape(x_train,(x_train.shape[0],x_train.shape[1],1))"
      ],
      "metadata": {
        "id": "NJ-XzpfLuMJ4"
      },
      "execution_count": 82,
      "outputs": []
    },
    {
      "cell_type": "code",
      "source": [
        "x_train.shape"
      ],
      "metadata": {
        "colab": {
          "base_uri": "https://localhost:8080/"
        },
        "id": "rpYKkZsGuYrI",
        "outputId": "57c65970-e175-439a-c236-14163b6fda84"
      },
      "execution_count": 83,
      "outputs": [
        {
          "output_type": "execute_result",
          "data": {
            "text/plain": [
              "(1183, 25, 1)"
            ]
          },
          "metadata": {},
          "execution_count": 83
        }
      ]
    },
    {
      "cell_type": "markdown",
      "source": [
        "### Build the LSTM model"
      ],
      "metadata": {
        "id": "oWSxz1DIukTv"
      }
    },
    {
      "cell_type": "code",
      "source": [
        "from keras.models import Sequential\n",
        "from keras.layers import LSTM, Dense\n",
        "\n",
        "model = Sequential()\n",
        "model.add(LSTM(40, return_sequences=True,activation='relu', input_shape=(x_train.shape[1], 1)))\n",
        "model.add(LSTM(40, return_sequences=True))\n",
        "model.add(LSTM(40, return_sequences=False))  # New LSTM layer added\n",
        "model.add(Dense(20))\n",
        "model.add(Dense(20))  # New Dense layer added\n",
        "model.add(Dense(1))   # Add final Dense layer for regression (or adjust units for your specific problem)"
      ],
      "metadata": {
        "id": "I2GUHQHxugy6"
      },
      "execution_count": 84,
      "outputs": []
    },
    {
      "cell_type": "markdown",
      "source": [
        "### Compile the model (add optimizer and loss function based on your specific task)"
      ],
      "metadata": {
        "id": "hepjC52OutfH"
      }
    },
    {
      "cell_type": "code",
      "source": [
        "model.compile(optimizer='adam', loss='mean_squared_error')"
      ],
      "metadata": {
        "id": "_gg3LJEyumFm"
      },
      "execution_count": 85,
      "outputs": []
    },
    {
      "cell_type": "markdown",
      "source": [
        "### Train the Model"
      ],
      "metadata": {
        "id": "mk_JtYBau0rf"
      }
    },
    {
      "cell_type": "code",
      "source": [
        "model.fit(x_train,y_train,batch_size=32,epochs=100)"
      ],
      "metadata": {
        "colab": {
          "base_uri": "https://localhost:8080/"
        },
        "id": "MP4hplXnuyeI",
        "outputId": "153c7aeb-ed79-4c9a-8bc2-29ed38c56990"
      },
      "execution_count": 86,
      "outputs": [
        {
          "output_type": "stream",
          "name": "stdout",
          "text": [
            "Epoch 1/100\n",
            "37/37 [==============================] - 8s 50ms/step - loss: 0.0412\n",
            "Epoch 2/100\n",
            "37/37 [==============================] - 2s 67ms/step - loss: 0.0025\n",
            "Epoch 3/100\n",
            "37/37 [==============================] - 4s 98ms/step - loss: 0.0018\n",
            "Epoch 4/100\n",
            "37/37 [==============================] - 2s 66ms/step - loss: 0.0017\n",
            "Epoch 5/100\n",
            "37/37 [==============================] - 2s 65ms/step - loss: 0.0017\n",
            "Epoch 6/100\n",
            "37/37 [==============================] - 3s 74ms/step - loss: 0.0016\n",
            "Epoch 7/100\n",
            "37/37 [==============================] - 3s 77ms/step - loss: 0.0016\n",
            "Epoch 8/100\n",
            "37/37 [==============================] - 3s 94ms/step - loss: 0.0016\n",
            "Epoch 9/100\n",
            "37/37 [==============================] - 3s 68ms/step - loss: 0.0015\n",
            "Epoch 10/100\n",
            "37/37 [==============================] - 3s 75ms/step - loss: 0.0013\n",
            "Epoch 11/100\n",
            "37/37 [==============================] - 2s 65ms/step - loss: 0.0012\n",
            "Epoch 12/100\n",
            "37/37 [==============================] - 1s 34ms/step - loss: 0.0011\n",
            "Epoch 13/100\n",
            "37/37 [==============================] - 2s 49ms/step - loss: 0.0012\n",
            "Epoch 14/100\n",
            "37/37 [==============================] - 2s 53ms/step - loss: 0.0012\n",
            "Epoch 15/100\n",
            "37/37 [==============================] - 1s 33ms/step - loss: 9.8773e-04\n",
            "Epoch 16/100\n",
            "37/37 [==============================] - 1s 34ms/step - loss: 8.7589e-04\n",
            "Epoch 17/100\n",
            "37/37 [==============================] - 1s 34ms/step - loss: 8.5991e-04\n",
            "Epoch 18/100\n",
            "37/37 [==============================] - 1s 34ms/step - loss: 8.7252e-04\n",
            "Epoch 19/100\n",
            "37/37 [==============================] - 1s 34ms/step - loss: 8.5791e-04\n",
            "Epoch 20/100\n",
            "37/37 [==============================] - 1s 34ms/step - loss: 7.7634e-04\n",
            "Epoch 21/100\n",
            "37/37 [==============================] - 1s 35ms/step - loss: 7.9728e-04\n",
            "Epoch 22/100\n",
            "37/37 [==============================] - 1s 39ms/step - loss: 8.8372e-04\n",
            "Epoch 23/100\n",
            "37/37 [==============================] - 2s 58ms/step - loss: 8.2322e-04\n",
            "Epoch 24/100\n",
            "37/37 [==============================] - 1s 37ms/step - loss: 8.7122e-04\n",
            "Epoch 25/100\n",
            "37/37 [==============================] - 1s 34ms/step - loss: 6.9304e-04\n",
            "Epoch 26/100\n",
            "37/37 [==============================] - 1s 34ms/step - loss: 7.5108e-04\n",
            "Epoch 27/100\n",
            "37/37 [==============================] - 1s 34ms/step - loss: 6.9874e-04\n",
            "Epoch 28/100\n",
            "37/37 [==============================] - 1s 34ms/step - loss: 6.7473e-04\n",
            "Epoch 29/100\n",
            "37/37 [==============================] - 1s 34ms/step - loss: 6.9943e-04\n",
            "Epoch 30/100\n",
            "37/37 [==============================] - 1s 34ms/step - loss: 6.6690e-04\n",
            "Epoch 31/100\n",
            "37/37 [==============================] - 1s 34ms/step - loss: 6.2264e-04\n",
            "Epoch 32/100\n",
            "37/37 [==============================] - 2s 55ms/step - loss: 6.4351e-04\n",
            "Epoch 33/100\n",
            "37/37 [==============================] - 2s 47ms/step - loss: 6.2283e-04\n",
            "Epoch 34/100\n",
            "37/37 [==============================] - 1s 34ms/step - loss: 6.5034e-04\n",
            "Epoch 35/100\n",
            "37/37 [==============================] - 1s 34ms/step - loss: 6.4342e-04\n",
            "Epoch 36/100\n",
            "37/37 [==============================] - 1s 34ms/step - loss: 6.7851e-04\n",
            "Epoch 37/100\n",
            "37/37 [==============================] - 1s 34ms/step - loss: 6.1585e-04\n",
            "Epoch 38/100\n",
            "37/37 [==============================] - 1s 34ms/step - loss: 5.8423e-04\n",
            "Epoch 39/100\n",
            "37/37 [==============================] - 1s 34ms/step - loss: 6.2712e-04\n",
            "Epoch 40/100\n",
            "37/37 [==============================] - 1s 34ms/step - loss: 5.7908e-04\n",
            "Epoch 41/100\n",
            "37/37 [==============================] - 2s 47ms/step - loss: 5.3258e-04\n",
            "Epoch 42/100\n",
            "37/37 [==============================] - 2s 55ms/step - loss: 5.7081e-04\n",
            "Epoch 43/100\n",
            "37/37 [==============================] - 1s 34ms/step - loss: 5.9303e-04\n",
            "Epoch 44/100\n",
            "37/37 [==============================] - 1s 34ms/step - loss: 5.6491e-04\n",
            "Epoch 45/100\n",
            "37/37 [==============================] - 1s 34ms/step - loss: 5.1848e-04\n",
            "Epoch 46/100\n",
            "37/37 [==============================] - 1s 34ms/step - loss: 5.2730e-04\n",
            "Epoch 47/100\n",
            "37/37 [==============================] - 1s 34ms/step - loss: 5.2019e-04\n",
            "Epoch 48/100\n",
            "37/37 [==============================] - 1s 34ms/step - loss: 4.8592e-04\n",
            "Epoch 49/100\n",
            "37/37 [==============================] - 1s 34ms/step - loss: 4.8701e-04\n",
            "Epoch 50/100\n",
            "37/37 [==============================] - 1s 40ms/step - loss: 5.1486e-04\n",
            "Epoch 51/100\n",
            "37/37 [==============================] - 2s 57ms/step - loss: 5.2421e-04\n",
            "Epoch 52/100\n",
            "37/37 [==============================] - 1s 38ms/step - loss: 4.4654e-04\n",
            "Epoch 53/100\n",
            "37/37 [==============================] - 1s 34ms/step - loss: 4.4971e-04\n",
            "Epoch 54/100\n",
            "37/37 [==============================] - 1s 34ms/step - loss: 4.2784e-04\n",
            "Epoch 55/100\n",
            "37/37 [==============================] - 1s 34ms/step - loss: 4.6131e-04\n",
            "Epoch 56/100\n",
            "37/37 [==============================] - 1s 34ms/step - loss: 5.4648e-04\n",
            "Epoch 57/100\n",
            "37/37 [==============================] - 1s 34ms/step - loss: 4.8727e-04\n",
            "Epoch 58/100\n",
            "37/37 [==============================] - 1s 34ms/step - loss: 4.3979e-04\n",
            "Epoch 59/100\n",
            "37/37 [==============================] - 1s 34ms/step - loss: 4.2545e-04\n",
            "Epoch 60/100\n",
            "37/37 [==============================] - 2s 55ms/step - loss: 3.8342e-04\n",
            "Epoch 61/100\n",
            "37/37 [==============================] - 2s 46ms/step - loss: 4.0984e-04\n",
            "Epoch 62/100\n",
            "37/37 [==============================] - 1s 34ms/step - loss: 3.9087e-04\n",
            "Epoch 63/100\n",
            "37/37 [==============================] - 1s 34ms/step - loss: 3.7578e-04\n",
            "Epoch 64/100\n",
            "37/37 [==============================] - 1s 34ms/step - loss: 4.6699e-04\n",
            "Epoch 65/100\n",
            "37/37 [==============================] - 1s 34ms/step - loss: 3.5989e-04\n",
            "Epoch 66/100\n",
            "37/37 [==============================] - 1s 34ms/step - loss: 4.3599e-04\n",
            "Epoch 67/100\n",
            "37/37 [==============================] - 1s 34ms/step - loss: 3.7288e-04\n",
            "Epoch 68/100\n",
            "37/37 [==============================] - 1s 35ms/step - loss: 3.3096e-04\n",
            "Epoch 69/100\n",
            "37/37 [==============================] - 2s 46ms/step - loss: 3.5369e-04\n",
            "Epoch 70/100\n",
            "37/37 [==============================] - 2s 55ms/step - loss: 3.2032e-04\n",
            "Epoch 71/100\n",
            "37/37 [==============================] - 1s 34ms/step - loss: 3.4432e-04\n",
            "Epoch 72/100\n",
            "37/37 [==============================] - 1s 34ms/step - loss: 3.5983e-04\n",
            "Epoch 73/100\n",
            "37/37 [==============================] - 1s 34ms/step - loss: 3.0601e-04\n",
            "Epoch 74/100\n",
            "37/37 [==============================] - 1s 35ms/step - loss: 3.2211e-04\n",
            "Epoch 75/100\n",
            "37/37 [==============================] - 1s 34ms/step - loss: 4.5059e-04\n",
            "Epoch 76/100\n",
            "37/37 [==============================] - 1s 34ms/step - loss: 3.0782e-04\n",
            "Epoch 77/100\n",
            "37/37 [==============================] - 1s 34ms/step - loss: 3.2311e-04\n",
            "Epoch 78/100\n",
            "37/37 [==============================] - 1s 41ms/step - loss: 2.9227e-04\n",
            "Epoch 79/100\n",
            "37/37 [==============================] - 2s 58ms/step - loss: 2.9704e-04\n",
            "Epoch 80/100\n",
            "37/37 [==============================] - 1s 38ms/step - loss: 3.2929e-04\n",
            "Epoch 81/100\n",
            "37/37 [==============================] - 2s 49ms/step - loss: 3.9425e-04\n",
            "Epoch 82/100\n",
            "37/37 [==============================] - 1s 34ms/step - loss: 3.3596e-04\n",
            "Epoch 83/100\n",
            "37/37 [==============================] - 1s 34ms/step - loss: 2.8883e-04\n",
            "Epoch 84/100\n",
            "37/37 [==============================] - 1s 35ms/step - loss: 3.2748e-04\n",
            "Epoch 85/100\n",
            "37/37 [==============================] - 1s 34ms/step - loss: 3.5192e-04\n",
            "Epoch 86/100\n",
            "37/37 [==============================] - 1s 35ms/step - loss: 2.9246e-04\n",
            "Epoch 87/100\n",
            "37/37 [==============================] - 2s 43ms/step - loss: 2.9818e-04\n",
            "Epoch 88/100\n",
            "37/37 [==============================] - 2s 57ms/step - loss: 2.8741e-04\n",
            "Epoch 89/100\n",
            "37/37 [==============================] - 1s 36ms/step - loss: 2.9277e-04\n",
            "Epoch 90/100\n",
            "37/37 [==============================] - 1s 34ms/step - loss: 3.2389e-04\n",
            "Epoch 91/100\n",
            "37/37 [==============================] - 1s 35ms/step - loss: 3.1456e-04\n",
            "Epoch 92/100\n",
            "37/37 [==============================] - 1s 35ms/step - loss: 2.9578e-04\n",
            "Epoch 93/100\n",
            "37/37 [==============================] - 2s 48ms/step - loss: 2.7241e-04\n",
            "Epoch 94/100\n",
            "37/37 [==============================] - 1s 34ms/step - loss: 2.8719e-04\n",
            "Epoch 95/100\n",
            "37/37 [==============================] - 1s 34ms/step - loss: 3.0465e-04\n",
            "Epoch 96/100\n",
            "37/37 [==============================] - 2s 43ms/step - loss: 2.7978e-04\n",
            "Epoch 97/100\n",
            "37/37 [==============================] - 2s 57ms/step - loss: 2.8042e-04\n",
            "Epoch 98/100\n",
            "37/37 [==============================] - 1s 35ms/step - loss: 3.6770e-04\n",
            "Epoch 99/100\n",
            "37/37 [==============================] - 1s 34ms/step - loss: 3.1416e-04\n",
            "Epoch 100/100\n",
            "37/37 [==============================] - 1s 34ms/step - loss: 3.0794e-04\n"
          ]
        },
        {
          "output_type": "execute_result",
          "data": {
            "text/plain": [
              "<keras.src.callbacks.History at 0x7d13b5af5de0>"
            ]
          },
          "metadata": {},
          "execution_count": 86
        }
      ]
    },
    {
      "cell_type": "markdown",
      "source": [
        "### Print the model summary"
      ],
      "metadata": {
        "id": "Cf8HQNfVvEU3"
      }
    },
    {
      "cell_type": "code",
      "source": [
        "print(model.summary())"
      ],
      "metadata": {
        "colab": {
          "base_uri": "https://localhost:8080/"
        },
        "id": "Mu2gC5vOvA6w",
        "outputId": "bdfaa998-de70-4dbf-ce76-dcb56e0739db"
      },
      "execution_count": 87,
      "outputs": [
        {
          "output_type": "stream",
          "name": "stdout",
          "text": [
            "Model: \"sequential_2\"\n",
            "_________________________________________________________________\n",
            " Layer (type)                Output Shape              Param #   \n",
            "=================================================================\n",
            " lstm_6 (LSTM)               (None, 25, 40)            6720      \n",
            "                                                                 \n",
            " lstm_7 (LSTM)               (None, 25, 40)            12960     \n",
            "                                                                 \n",
            " lstm_8 (LSTM)               (None, 40)                12960     \n",
            "                                                                 \n",
            " dense_6 (Dense)             (None, 20)                820       \n",
            "                                                                 \n",
            " dense_7 (Dense)             (None, 20)                420       \n",
            "                                                                 \n",
            " dense_8 (Dense)             (None, 1)                 21        \n",
            "                                                                 \n",
            "=================================================================\n",
            "Total params: 33901 (132.43 KB)\n",
            "Trainable params: 33901 (132.43 KB)\n",
            "Non-trainable params: 0 (0.00 Byte)\n",
            "_________________________________________________________________\n",
            "None\n"
          ]
        }
      ]
    },
    {
      "cell_type": "markdown",
      "source": [
        "## Data testing and validation and stock market forecasting"
      ],
      "metadata": {
        "id": "itLDoWgIvPBQ"
      }
    },
    {
      "cell_type": "markdown",
      "source": [
        "### Creating the testing dataset"
      ],
      "metadata": {
        "id": "rloL_-F7vcCn"
      }
    },
    {
      "cell_type": "code",
      "source": [
        "test_data=scaled_data[training_data_len-25:,:]\n",
        "print(len(test_data))\n",
        "x_test=[]\n",
        "y_test=dataset[training_data_len:,:]\n",
        "print(len(test_data))\n",
        "for i in range(25,len(test_data)):\n",
        "  x_test.append(test_data[i-25:i,0])"
      ],
      "metadata": {
        "colab": {
          "base_uri": "https://localhost:8080/"
        },
        "id": "hg8mi_tmvU3I",
        "outputId": "03bddd84-89fd-40ec-9f41-f3d18279cf2a"
      },
      "execution_count": 88,
      "outputs": [
        {
          "output_type": "stream",
          "name": "stdout",
          "text": [
            "326\n",
            "326\n"
          ]
        }
      ]
    },
    {
      "cell_type": "markdown",
      "source": [
        "### convert x_test to numpy arrays"
      ],
      "metadata": {
        "id": "sgFQV8y5xASI"
      }
    },
    {
      "cell_type": "code",
      "source": [
        "x_test=np.array(x_test)"
      ],
      "metadata": {
        "id": "FnDCUD12w8fQ"
      },
      "execution_count": 89,
      "outputs": []
    },
    {
      "cell_type": "markdown",
      "source": [
        "### Reshape x_test"
      ],
      "metadata": {
        "id": "uhZysnM_xIwy"
      }
    },
    {
      "cell_type": "code",
      "source": [
        "x_test=np.reshape(x_test,(x_test.shape[0],x_test.shape[1],1))"
      ],
      "metadata": {
        "id": "vDGdj9TpxGcA"
      },
      "execution_count": 90,
      "outputs": []
    },
    {
      "cell_type": "markdown",
      "source": [
        "### Prediction"
      ],
      "metadata": {
        "id": "WAZiMMqqxRQj"
      }
    },
    {
      "cell_type": "code",
      "source": [
        "predictions=model.predict(x_test)\n",
        "predictions=scalar.inverse_transform(predictions)"
      ],
      "metadata": {
        "colab": {
          "base_uri": "https://localhost:8080/"
        },
        "id": "yQRO3RCPxObw",
        "outputId": "ce0c57ae-2f49-484c-a65a-ad53095f8d02"
      },
      "execution_count": 91,
      "outputs": [
        {
          "output_type": "stream",
          "name": "stdout",
          "text": [
            "10/10 [==============================] - 1s 10ms/step\n"
          ]
        }
      ]
    },
    {
      "cell_type": "markdown",
      "source": [
        "### The root mean squared error"
      ],
      "metadata": {
        "id": "BUkLahJaxaVP"
      }
    },
    {
      "cell_type": "code",
      "source": [
        "rmse=np.sqrt(np.mean(predictions-y_test)**2)\n",
        "rmse"
      ],
      "metadata": {
        "colab": {
          "base_uri": "https://localhost:8080/"
        },
        "id": "1ryfJoLFxXig",
        "outputId": "1e5bcf3b-fa60-4001-a275-c540f9819f27"
      },
      "execution_count": 92,
      "outputs": [
        {
          "output_type": "execute_result",
          "data": {
            "text/plain": [
              "1.7102087280678986"
            ]
          },
          "metadata": {},
          "execution_count": 92
        }
      ]
    },
    {
      "cell_type": "markdown",
      "source": [
        "### Plot the data"
      ],
      "metadata": {
        "id": "ebEs05a3xjXw"
      }
    },
    {
      "cell_type": "code",
      "source": [
        "train=data[:training_data_len]\n",
        "valid=data[training_data_len:]\n",
        "valid['Predictions']=predictions\n",
        "plt.figure(figsize=(16,8))\n",
        "plt.title('Model')\n",
        "plt.xlabel('Date',fontsize=18)\n",
        "plt.ylabel('Close Price USD ($)' , fontsize=18)\n",
        "plt.plot(train['Close'])\n",
        "plt.plot(valid[['Close', 'Predictions']])\n",
        "plt.legend(['Train', 'Val', 'Predictions'], loc='lower right')\n",
        "plt.show()"
      ],
      "metadata": {
        "colab": {
          "base_uri": "https://localhost:8080/",
          "height": 647
        },
        "id": "x5uDDQ8fxf65",
        "outputId": "52793325-69ba-4754-e518-b3d18fa52001"
      },
      "execution_count": 93,
      "outputs": [
        {
          "output_type": "stream",
          "name": "stderr",
          "text": [
            "<ipython-input-93-e1741ed708b6>:3: SettingWithCopyWarning: \n",
            "A value is trying to be set on a copy of a slice from a DataFrame.\n",
            "Try using .loc[row_indexer,col_indexer] = value instead\n",
            "\n",
            "See the caveats in the documentation: https://pandas.pydata.org/pandas-docs/stable/user_guide/indexing.html#returning-a-view-versus-a-copy\n",
            "  valid['Predictions']=predictions\n"
          ]
        },
        {
          "output_type": "display_data",
          "data": {
            "text/plain": [
              "<Figure size 1600x800 with 1 Axes>"
            ],
            "image/png": "[encoded data removed]"
          },
          "metadata": {}
        }
      ]
    },
    {
      "cell_type": "markdown",
      "source": [
        "### Show the valid and predicted prices"
      ],
      "metadata": {
        "id": "3KkPMWowxs-X"
      }
    },
    {
      "cell_type": "code",
      "source": [
        "valid"
      ],
      "metadata": {
        "colab": {
          "base_uri": "https://localhost:8080/",
          "height": 455
        },
        "id": "m0xXNd19xpoo",
        "outputId": "6c9eeba8-6391-422a-b276-2658c151f0ff"
      },
      "execution_count": 94,
      "outputs": [
        {
          "output_type": "execute_result",
          "data": {
            "text/plain": [
              "                  Open        High         Low       Close   Adj Close  \\\n",
              "Date                                                                     \n",
              "2022-05-18  403.500000  403.799988  390.549988  391.859985  382.556000   \n",
              "2022-05-19  388.619995  394.140015  387.109985  389.459991  380.212982   \n",
              "2022-05-20  393.250000  397.029999  380.540009  389.630005  380.378998   \n",
              "2022-05-23  392.829987  397.730011  390.380005  396.920013  387.495941   \n",
              "2022-05-24  392.559998  395.149994  386.959991  393.890015  384.537872   \n",
              "...                ...         ...         ...         ...         ...   \n",
              "2023-07-25  453.920013  456.739990  453.869995  455.440002  453.839142   \n",
              "2023-07-26  454.470001  456.989990  453.380005  455.510010  453.908905   \n",
              "2023-07-27  459.019989  459.440002  451.549988  452.489990  450.899506   \n",
              "2023-07-28  455.880005  457.779999  452.489990  456.920013  455.313965   \n",
              "2023-07-31  457.410004  458.160004  456.049988  457.790009  456.180908   \n",
              "\n",
              "               Volume  Predictions  \n",
              "Date                                \n",
              "2022-05-18  117674500   406.339813  \n",
              "2022-05-19   98510700   392.250183  \n",
              "2022-05-20  131432200   387.986084  \n",
              "2022-05-23   76414900   388.271851  \n",
              "2022-05-24   91448800   395.219482  \n",
              "...               ...          ...  \n",
              "2023-07-25   55191200   451.247437  \n",
              "2023-07-26   71052900   452.622864  \n",
              "2023-07-27   92194400   452.550262  \n",
              "2023-07-28   80011800   449.316681  \n",
              "2023-07-31   62040400   453.928680  \n",
              "\n",
              "[301 rows x 7 columns]"
            ],
            "text/html": [
              "\n",
              "  <div id=\"df-bb3b2e40-c328-4623-a8a2-cae402609249\" class=\"colab-df-container\">\n",
              "    <div>\n",
              "<style scoped>\n",
              "    .dataframe tbody tr th:only-of-type {\n",
              "        vertical-align: middle;\n",
              "    }\n",
              "\n",
              "    .dataframe tbody tr th {\n",
              "        vertical-align: top;\n",
              "    }\n",
              "\n",
              "    .dataframe thead th {\n",
              "        text-align: right;\n",
              "    }\n",
              "</style>\n",
              "<table border=\"1\" class=\"dataframe\">\n",
              "  <thead>\n",
              "    <tr style=\"text-align: right;\">\n",
              "      <th></th>\n",
              "      <th>Open</th>\n",
              "      <th>High</th>\n",
              "      <th>Low</th>\n",
              "      <th>Close</th>\n",
              "      <th>Adj Close</th>\n",
              "      <th>Volume</th>\n",
              "      <th>Predictions</th>\n",
              "    </tr>\n",
              "    <tr>\n",
              "      <th>Date</th>\n",
              "      <th></th>\n",
              "      <th></th>\n",
              "      <th></th>\n",
              "      <th></th>\n",
              "      <th></th>\n",
              "      <th></th>\n",
              "      <th></th>\n",
              "    </tr>\n",
              "  </thead>\n",
              "  <tbody>\n",
              "    <tr>\n",
              "      <th>2022-05-18</th>\n",
              "      <td>403.500000</td>\n",
              "      <td>403.799988</td>\n",
              "      <td>390.549988</td>\n",
              "      <td>391.859985</td>\n",
              "      <td>382.556000</td>\n",
              "      <td>117674500</td>\n",
              "      <td>406.339813</td>\n",
              "    </tr>\n",
              "    <tr>\n",
              "      <th>2022-05-19</th>\n",
              "      <td>388.619995</td>\n",
              "      <td>394.140015</td>\n",
              "      <td>387.109985</td>\n",
              "      <td>389.459991</td>\n",
              "      <td>380.212982</td>\n",
              "      <td>98510700</td>\n",
              "      <td>392.250183</td>\n",
              "    </tr>\n",
              "    <tr>\n",
              "      <th>2022-05-20</th>\n",
              "      <td>393.250000</td>\n",
              "      <td>397.029999</td>\n",
              "      <td>380.540009</td>\n",
              "      <td>389.630005</td>\n",
              "      <td>380.378998</td>\n",
              "      <td>131432200</td>\n",
              "      <td>387.986084</td>\n",
              "    </tr>\n",
              "    <tr>\n",
              "      <th>2022-05-23</th>\n",
              "      <td>392.829987</td>\n",
              "      <td>397.730011</td>\n",
              "      <td>390.380005</td>\n",
              "      <td>396.920013</td>\n",
              "      <td>387.495941</td>\n",
              "      <td>76414900</td>\n",
              "      <td>388.271851</td>\n",
              "    </tr>\n",
              "    <tr>\n",
              "      <th>2022-05-24</th>\n",
              "      <td>392.559998</td>\n",
              "      <td>395.149994</td>\n",
              "      <td>386.959991</td>\n",
              "      <td>393.890015</td>\n",
              "      <td>384.537872</td>\n",
              "      <td>91448800</td>\n",
              "      <td>395.219482</td>\n",
              "    </tr>\n",
              "    <tr>\n",
              "      <th>...</th>\n",
              "      <td>...</td>\n",
              "      <td>...</td>\n",
              "      <td>...</td>\n",
              "      <td>...</td>\n",
              "      <td>...</td>\n",
              "      <td>...</td>\n",
              "      <td>...</td>\n",
              "    </tr>\n",
              "    <tr>\n",
              "      <th>2023-07-25</th>\n",
              "      <td>453.920013</td>\n",
              "      <td>456.739990</td>\n",
              "      <td>453.869995</td>\n",
              "      <td>455.440002</td>\n",
              "      <td>453.839142</td>\n",
              "      <td>55191200</td>\n",
              "      <td>451.247437</td>\n",
              "    </tr>\n",
              "    <tr>\n",
              "      <th>2023-07-26</th>\n",
              "      <td>454.470001</td>\n",
              "      <td>456.989990</td>\n",
              "      <td>453.380005</td>\n",
              "      <td>455.510010</td>\n",
              "      <td>453.908905</td>\n",
              "      <td>71052900</td>\n",
              "      <td>452.622864</td>\n",
              "    </tr>\n",
              "    <tr>\n",
              "      <th>2023-07-27</th>\n",
              "      <td>459.019989</td>\n",
              "      <td>459.440002</td>\n",
              "      <td>451.549988</td>\n",
              "      <td>452.489990</td>\n",
              "      <td>450.899506</td>\n",
              "      <td>92194400</td>\n",
              "      <td>452.550262</td>\n",
              "    </tr>\n",
              "    <tr>\n",
              "      <th>2023-07-28</th>\n",
              "      <td>455.880005</td>\n",
              "      <td>457.779999</td>\n",
              "      <td>452.489990</td>\n",
              "      <td>456.920013</td>\n",
              "      <td>455.313965</td>\n",
              "      <td>80011800</td>\n",
              "      <td>449.316681</td>\n",
              "    </tr>\n",
              "    <tr>\n",
              "      <th>2023-07-31</th>\n",
              "      <td>457.410004</td>\n",
              "      <td>458.160004</td>\n",
              "      <td>456.049988</td>\n",
              "      <td>457.790009</td>\n",
              "      <td>456.180908</td>\n",
              "      <td>62040400</td>\n",
              "      <td>453.928680</td>\n",
              "    </tr>\n",
              "  </tbody>\n",
              "</table>\n",
              "<p>301 rows × 7 columns</p>\n",
              "</div>\n",
              "    <div class=\"colab-df-buttons\">\n",
              "\n",
              "  <div class=\"colab-df-container\">\n",
              "    <button class=\"colab-df-convert\" onclick=\"convertToInteractive('df-bb3b2e40-c328-4623-a8a2-cae402609249')\"\n",
              "            title=\"Convert this dataframe to an interactive table.\"\n",
              "            style=\"display:none;\">\n",
              "\n",
              "  <svg xmlns=\"http://www.w3.org/2000/svg\" height=\"24px\" viewBox=\"0 -960 960 960\">\n",
              "    <path d=\"M120-120v-720h720v720H120Zm60-500h600v-160H180v160Zm220 220h160v-160H400v160Zm0 220h160v-160H400v160ZM180-400h160v-160H180v160Zm440 0h160v-160H620v160ZM180-180h160v-160H180v160Zm440 0h160v-160H620v160Z\"/>\n",
              "  </svg>\n",
              "    </button>\n",
              "\n",
              "  <style>\n",
              "    .colab-df-container {\n",
              "      display:flex;\n",
              "      gap: 12px;\n",
              "    }\n",
              "\n",
              "    .colab-df-convert {\n",
              "      background-color: #E8F0FE;\n",
              "      border: none;\n",
              "      border-radius: 50%;\n",
              "      cursor: pointer;\n",
              "      display: none;\n",
              "      fill: #1967D2;\n",
              "      height: 32px;\n",
              "      padding: 0 0 0 0;\n",
              "      width: 32px;\n",
              "    }\n",
              "\n",
              "    .colab-df-convert:hover {\n",
              "      background-color: #E2EBFA;\n",
              "      box-shadow: 0px 1px 2px rgba(60, 64, 67, 0.3), 0px 1px 3px 1px rgba(60, 64, 67, 0.15);\n",
              "      fill: #174EA6;\n",
              "    }\n",
              "\n",
              "    .colab-df-buttons div {\n",
              "      margin-bottom: 4px;\n",
              "    }\n",
              "\n",
              "    [theme=dark] .colab-df-convert {\n",
              "      background-color: #3B4455;\n",
              "      fill: #D2E3FC;\n",
              "    }\n",
              "\n",
              "    [theme=dark] .colab-df-convert:hover {\n",
              "      background-color: #434B5C;\n",
              "      box-shadow: 0px 1px 3px 1px rgba(0, 0, 0, 0.15);\n",
              "      filter: drop-shadow(0px 1px 2px rgba(0, 0, 0, 0.3));\n",
              "      fill: #FFFFFF;\n",
              "    }\n",
              "  </style>\n",
              "\n",
              "    <script>\n",
              "      const buttonEl =\n",
              "        document.querySelector('#df-bb3b2e40-c328-4623-a8a2-cae402609249 button.colab-df-convert');\n",
              "      buttonEl.style.display =\n",
              "        google.colab.kernel.accessAllowed ? 'block' : 'none';\n",
              "\n",
              "      async function convertToInteractive(key) {\n",
              "        const element = document.querySelector('#df-bb3b2e40-c328-4623-a8a2-cae402609249');\n",
              "        const dataTable =\n",
              "          await google.colab.kernel.invokeFunction('convertToInteractive',\n",
              "                                                    [key], {});\n",
              "        if (!dataTable) return;\n",
              "\n",
              "        const docLinkHtml = 'Like what you see? Visit the ' +\n",
              "          '<a target=\"_blank\" href=https://colab.research.google.com/notebooks/data_table.ipynb>data table notebook</a>'\n",
              "          + ' to learn more about interactive tables.';\n",
              "        element.innerHTML = '';\n",
              "        dataTable['output_type'] = 'display_data';\n",
              "        await google.colab.output.renderOutput(dataTable, element);\n",
              "        const docLink = document.createElement('div');\n",
              "        docLink.innerHTML = docLinkHtml;\n",
              "        element.appendChild(docLink);\n",
              "      }\n",
              "    </script>\n",
              "  </div>\n",
              "\n",
              "\n",
              "<div id=\"df-e13b7a02-2fd7-4ebd-91d2-7f3370737316\">\n",
              "  <button class=\"colab-df-quickchart\" onclick=\"quickchart('df-e13b7a02-2fd7-4ebd-91d2-7f3370737316')\"\n",
              "            title=\"Suggest charts.\"\n",
              "            style=\"display:none;\">\n",
              "\n",
              "<svg xmlns=\"http://www.w3.org/2000/svg\" height=\"24px\"viewBox=\"0 0 24 24\"\n",
              "     width=\"24px\">\n",
              "    <g>\n",
              "        <path d=\"M19 3H5c-1.1 0-2 .9-2 2v14c0 1.1.9 2 2 2h14c1.1 0 2-.9 2-2V5c0-1.1-.9-2-2-2zM9 17H7v-7h2v7zm4 0h-2V7h2v10zm4 0h-2v-4h2v4z\"/>\n",
              "    </g>\n",
              "</svg>\n",
              "  </button>\n",
              "\n",
              "<style>\n",
              "  .colab-df-quickchart {\n",
              "      --bg-color: #E8F0FE;\n",
              "      --fill-color: #1967D2;\n",
              "      --hover-bg-color: #E2EBFA;\n",
              "      --hover-fill-color: #174EA6;\n",
              "      --disabled-fill-color: #AAA;\n",
              "      --disabled-bg-color: #DDD;\n",
              "  }\n",
              "\n",
              "  [theme=dark] .colab-df-quickchart {\n",
              "      --bg-color: #3B4455;\n",
              "      --fill-color: #D2E3FC;\n",
              "      --hover-bg-color: #434B5C;\n",
              "      --hover-fill-color: #FFFFFF;\n",
              "      --disabled-bg-color: #3B4455;\n",
              "      --disabled-fill-color: #666;\n",
              "  }\n",
              "\n",
              "  .colab-df-quickchart {\n",
              "    background-color: var(--bg-color);\n",
              "    border: none;\n",
              "    border-radius: 50%;\n",
              "    cursor: pointer;\n",
              "    display: none;\n",
              "    fill: var(--fill-color);\n",
              "    height: 32px;\n",
              "    padding: 0;\n",
              "    width: 32px;\n",
              "  }\n",
              "\n",
              "  .colab-df-quickchart:hover {\n",
              "    background-color: var(--hover-bg-color);\n",
              "    box-shadow: 0 1px 2px rgba(60, 64, 67, 0.3), 0 1px 3px 1px rgba(60, 64, 67, 0.15);\n",
              "    fill: var(--button-hover-fill-color);\n",
              "  }\n",
              "\n",
              "  .colab-df-quickchart-complete:disabled,\n",
              "  .colab-df-quickchart-complete:disabled:hover {\n",
              "    background-color: var(--disabled-bg-color);\n",
              "    fill: var(--disabled-fill-color);\n",
              "    box-shadow: none;\n",
              "  }\n",
              "\n",
              "  .colab-df-spinner {\n",
              "    border: 2px solid var(--fill-color);\n",
              "    border-color: transparent;\n",
              "    border-bottom-color: var(--fill-color);\n",
              "    animation:\n",
              "      spin 1s steps(1) infinite;\n",
              "  }\n",
              "\n",
              "  @keyframes spin {\n",
              "    0% {\n",
              "      border-color: transparent;\n",
              "      border-bottom-color: var(--fill-color);\n",
              "      border-left-color: var(--fill-color);\n",
              "    }\n",
              "    20% {\n",
              "      border-color: transparent;\n",
              "      border-left-color: var(--fill-color);\n",
              "      border-top-color: var(--fill-color);\n",
              "    }\n",
              "    30% {\n",
              "      border-color: transparent;\n",
              "      border-left-color: var(--fill-color);\n",
              "      border-top-color: var(--fill-color);\n",
              "      border-right-color: var(--fill-color);\n",
              "    }\n",
              "    40% {\n",
              "      border-color: transparent;\n",
              "      border-right-color: var(--fill-color);\n",
              "      border-top-color: var(--fill-color);\n",
              "    }\n",
              "    60% {\n",
              "      border-color: transparent;\n",
              "      border-right-color: var(--fill-color);\n",
              "    }\n",
              "    80% {\n",
              "      border-color: transparent;\n",
              "      border-right-color: var(--fill-color);\n",
              "      border-bottom-color: var(--fill-color);\n",
              "    }\n",
              "    90% {\n",
              "      border-color: transparent;\n",
              "      border-bottom-color: var(--fill-color);\n",
              "    }\n",
              "  }\n",
              "</style>\n",
              "\n",
              "  <script>\n",
              "    async function quickchart(key) {\n",
              "      const quickchartButtonEl =\n",
              "        document.querySelector('#' + key + ' button');\n",
              "      quickchartButtonEl.disabled = true;  // To prevent multiple clicks.\n",
              "      quickchartButtonEl.classList.add('colab-df-spinner');\n",
              "      try {\n",
              "        const charts = await google.colab.kernel.invokeFunction(\n",
              "            'suggestCharts', [key], {});\n",
              "      } catch (error) {\n",
              "        console.error('Error during call to suggestCharts:', error);\n",
              "      }\n",
              "      quickchartButtonEl.classList.remove('colab-df-spinner');\n",
              "      quickchartButtonEl.classList.add('colab-df-quickchart-complete');\n",
              "    }\n",
              "    (() => {\n",
              "      let quickchartButtonEl =\n",
              "        document.querySelector('#df-e13b7a02-2fd7-4ebd-91d2-7f3370737316 button');\n",
              "      quickchartButtonEl.style.display =\n",
              "        google.colab.kernel.accessAllowed ? 'block' : 'none';\n",
              "    })();\n",
              "  </script>\n",
              "</div>\n",
              "    </div>\n",
              "  </div>\n"
            ]
          },
          "metadata": {},
          "execution_count": 94
        }
      ]
    },
    {
      "cell_type": "markdown",
      "source": [
        "## gheymate ruze 91 hom"
      ],
      "metadata": {
        "id": "zrAizKcsyANs"
      }
    },
    {
      "cell_type": "code",
      "source": [
        "SPY = pdr.get_data_yahoo('SPY', start='2017-08-01', end='2023-08-01')"
      ],
      "metadata": {
        "colab": {
          "base_uri": "https://localhost:8080/"
        },
        "id": "zcBkNrkmyEw4",
        "outputId": "9e3c0ecf-8025-45b0-dcd1-a7215849a2cc"
      },
      "execution_count": 95,
      "outputs": [
        {
          "output_type": "stream",
          "name": "stdout",
          "text": [
            "\r[*********************100%%**********************]  1 of 1 completed\n"
          ]
        }
      ]
    },
    {
      "cell_type": "markdown",
      "source": [
        "### Create a new data frame"
      ],
      "metadata": {
        "id": "eFBA2-O3yKKI"
      }
    },
    {
      "cell_type": "code",
      "source": [
        "new_df=SPY.filter(['Close'])"
      ],
      "metadata": {
        "id": "KEQKaOFcyIKI"
      },
      "execution_count": 96,
      "outputs": []
    },
    {
      "cell_type": "markdown",
      "source": [
        "### Get the last 90 day Closing price values and convert the dataframe to an array"
      ],
      "metadata": {
        "id": "z_bw5mW2yTBg"
      }
    },
    {
      "cell_type": "code",
      "source": [
        "last_90_days=new_df[-90:].values"
      ],
      "metadata": {
        "id": "IF1M1z0dyOpy"
      },
      "execution_count": 97,
      "outputs": []
    },
    {
      "cell_type": "markdown",
      "source": [
        "### Scale the data to be values between 0 and 1"
      ],
      "metadata": {
        "id": "uQKjHPJXyZ1J"
      }
    },
    {
      "cell_type": "code",
      "source": [
        "last_90_days_scaled=scalar.transform(last_90_days)"
      ],
      "metadata": {
        "id": "hPR1JWSryaJA"
      },
      "execution_count": 98,
      "outputs": []
    },
    {
      "cell_type": "markdown",
      "source": [
        "### Create an empty list"
      ],
      "metadata": {
        "id": "unBPLFhnyjq4"
      }
    },
    {
      "cell_type": "code",
      "source": [
        "X_test=[]\n",
        "\n",
        "X_test.append(last_90_days_scaled)"
      ],
      "metadata": {
        "id": "nc0ecm1eyj2Y"
      },
      "execution_count": 99,
      "outputs": []
    },
    {
      "cell_type": "markdown",
      "source": [
        "### Convert the numpy array"
      ],
      "metadata": {
        "id": "04qBxgBkysZg"
      }
    },
    {
      "cell_type": "code",
      "source": [
        "X_test=np.array(X_test)"
      ],
      "metadata": {
        "id": "J3U2kLQwysiZ"
      },
      "execution_count": 100,
      "outputs": []
    },
    {
      "cell_type": "markdown",
      "source": [
        "### Reshape the data"
      ],
      "metadata": {
        "id": "UPu6QOp-y2FI"
      }
    },
    {
      "cell_type": "code",
      "source": [
        "X_test=np.reshape(X_test,(X_test.shape[0],X_test.shape[1],1))\n",
        "\n",
        "pred_price=model.predict(X_test)"
      ],
      "metadata": {
        "colab": {
          "base_uri": "https://localhost:8080/"
        },
        "id": "f-Uk4P_hy2Qi",
        "outputId": "68421f0b-c2f4-4d1a-92e7-e2aefa6b2cc6"
      },
      "execution_count": 101,
      "outputs": [
        {
          "output_type": "stream",
          "name": "stdout",
          "text": [
            "1/1 [==============================] - 1s 909ms/step\n"
          ]
        }
      ]
    },
    {
      "cell_type": "markdown",
      "source": [
        "### Get the predicted scalar price"
      ],
      "metadata": {
        "id": "CvTY4hOOy_Hw"
      }
    },
    {
      "cell_type": "code",
      "source": [
        "pred_price=scalar.inverse_transform(pred_price)\n",
        "print(pred_price)"
      ],
      "metadata": {
        "colab": {
          "base_uri": "https://localhost:8080/"
        },
        "id": "ccsuEX31y_RR",
        "outputId": "73db9f1c-325f-4400-bca2-342ec194312e"
      },
      "execution_count": 102,
      "outputs": [
        {
          "output_type": "stream",
          "name": "stdout",
          "text": [
            "[[456.82382]]\n"
          ]
        }
      ]
    },
    {
      "cell_type": "markdown",
      "source": [
        "### The price predicted by the model"
      ],
      "metadata": {
        "id": "Xf0O7tObzJpA"
      }
    },
    {
      "cell_type": "code",
      "source": [
        "SPY_2= pdr.get_data_yahoo('SPY', start='2023-08-01', end='2023-08-05')\n",
        "print(SPY_2['Close'])"
      ],
      "metadata": {
        "colab": {
          "base_uri": "https://localhost:8080/"
        },
        "id": "eXv5BIhMzKL4",
        "outputId": "9638ed7b-859e-48dd-9811-e5883093a650"
      },
      "execution_count": 103,
      "outputs": [
        {
          "output_type": "stream",
          "name": "stdout",
          "text": [
            "\r[*********************100%%**********************]  1 of 1 completed\n",
            "Date\n",
            "2023-08-01    456.480011\n",
            "2023-08-02    450.130005\n",
            "2023-08-03    448.839996\n",
            "2023-08-04    446.809998\n",
            "Name: Close, dtype: float64\n"
          ]
        }
      ]
    }
  ]
}